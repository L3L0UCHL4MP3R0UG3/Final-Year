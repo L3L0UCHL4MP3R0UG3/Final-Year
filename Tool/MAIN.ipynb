{
  "cells": [
    {
      "cell_type": "markdown",
      "source": [
        "#Implementation"
      ],
      "metadata": {
        "id": "IIzoPXmKhprH"
      },
      "id": "IIzoPXmKhprH"
    },
    {
      "cell_type": "code",
      "execution_count": 1,
      "id": "017b0372",
      "metadata": {
        "id": "017b0372"
      },
      "outputs": [],
      "source": [
        "import pandas as pd\n",
        "import matplotlib.pyplot as plt\n",
        "import numpy as np\n",
        "import seaborn as sns\n",
        "from sklearn.model_selection import train_test_split"
      ]
    },
    {
      "cell_type": "code",
      "execution_count": 2,
      "id": "a336d739",
      "metadata": {
        "id": "a336d739"
      },
      "outputs": [],
      "source": [
        "df=pd.read_csv(\"dataset_phishing.csv\",index_col=False)"
      ]
    },
    {
      "cell_type": "code",
      "execution_count": 3,
      "id": "0e726a43",
      "metadata": {
        "id": "0e726a43",
        "outputId": "a3d33d16-4195-4774-92d7-55796c6b1930",
        "colab": {
          "base_uri": "https://localhost:8080/",
          "height": 334
        }
      },
      "outputs": [
        {
          "output_type": "execute_result",
          "data": {
            "text/plain": [
              "                                                 url  length_url  \\\n",
              "0              http://www.crestonwood.com/router.php          37   \n",
              "1  http://shadetreetechnology.com/V4/validation/a...          77   \n",
              "2  https://support-appleld.com.secureupdate.duila...         126   \n",
              "3                                 http://rgipt.ac.in          18   \n",
              "4  http://www.iracing.com/tracks/gateway-motorspo...          55   \n",
              "\n",
              "   length_hostname  ip  nb_dots  nb_hyphens  nb_at  nb_qm  nb_and  nb_or  ...  \\\n",
              "0               19   0        3           0      0      0       0      0  ...   \n",
              "1               23   1        1           0      0      0       0      0  ...   \n",
              "2               50   1        4           1      0      1       2      0  ...   \n",
              "3               11   0        2           0      0      0       0      0  ...   \n",
              "4               15   0        2           2      0      0       0      0  ...   \n",
              "\n",
              "   domain_in_title  domain_with_copyright  whois_registered_domain  \\\n",
              "0                0                      1                        0   \n",
              "1                1                      0                        0   \n",
              "2                1                      0                        0   \n",
              "3                1                      0                        0   \n",
              "4                0                      1                        0   \n",
              "\n",
              "   domain_registration_length  domain_age  web_traffic  dns_record  \\\n",
              "0                          45          -1            0           1   \n",
              "1                          77        5767            0           0   \n",
              "2                          14        4004      5828815           0   \n",
              "3                          62          -1       107721           0   \n",
              "4                         224        8175         8725           0   \n",
              "\n",
              "   google_index  page_rank      status  \n",
              "0             1          4  legitimate  \n",
              "1             1          2    phishing  \n",
              "2             1          0    phishing  \n",
              "3             0          3  legitimate  \n",
              "4             0          6  legitimate  \n",
              "\n",
              "[5 rows x 89 columns]"
            ],
            "text/html": [
              "\n",
              "  <div id=\"df-a2a620b4-ec9b-4701-9912-3370e2735a25\">\n",
              "    <div class=\"colab-df-container\">\n",
              "      <div>\n",
              "<style scoped>\n",
              "    .dataframe tbody tr th:only-of-type {\n",
              "        vertical-align: middle;\n",
              "    }\n",
              "\n",
              "    .dataframe tbody tr th {\n",
              "        vertical-align: top;\n",
              "    }\n",
              "\n",
              "    .dataframe thead th {\n",
              "        text-align: right;\n",
              "    }\n",
              "</style>\n",
              "<table border=\"1\" class=\"dataframe\">\n",
              "  <thead>\n",
              "    <tr style=\"text-align: right;\">\n",
              "      <th></th>\n",
              "      <th>url</th>\n",
              "      <th>length_url</th>\n",
              "      <th>length_hostname</th>\n",
              "      <th>ip</th>\n",
              "      <th>nb_dots</th>\n",
              "      <th>nb_hyphens</th>\n",
              "      <th>nb_at</th>\n",
              "      <th>nb_qm</th>\n",
              "      <th>nb_and</th>\n",
              "      <th>nb_or</th>\n",
              "      <th>...</th>\n",
              "      <th>domain_in_title</th>\n",
              "      <th>domain_with_copyright</th>\n",
              "      <th>whois_registered_domain</th>\n",
              "      <th>domain_registration_length</th>\n",
              "      <th>domain_age</th>\n",
              "      <th>web_traffic</th>\n",
              "      <th>dns_record</th>\n",
              "      <th>google_index</th>\n",
              "      <th>page_rank</th>\n",
              "      <th>status</th>\n",
              "    </tr>\n",
              "  </thead>\n",
              "  <tbody>\n",
              "    <tr>\n",
              "      <th>0</th>\n",
              "      <td>http://www.crestonwood.com/router.php</td>\n",
              "      <td>37</td>\n",
              "      <td>19</td>\n",
              "      <td>0</td>\n",
              "      <td>3</td>\n",
              "      <td>0</td>\n",
              "      <td>0</td>\n",
              "      <td>0</td>\n",
              "      <td>0</td>\n",
              "      <td>0</td>\n",
              "      <td>...</td>\n",
              "      <td>0</td>\n",
              "      <td>1</td>\n",
              "      <td>0</td>\n",
              "      <td>45</td>\n",
              "      <td>-1</td>\n",
              "      <td>0</td>\n",
              "      <td>1</td>\n",
              "      <td>1</td>\n",
              "      <td>4</td>\n",
              "      <td>legitimate</td>\n",
              "    </tr>\n",
              "    <tr>\n",
              "      <th>1</th>\n",
              "      <td>http://shadetreetechnology.com/V4/validation/a...</td>\n",
              "      <td>77</td>\n",
              "      <td>23</td>\n",
              "      <td>1</td>\n",
              "      <td>1</td>\n",
              "      <td>0</td>\n",
              "      <td>0</td>\n",
              "      <td>0</td>\n",
              "      <td>0</td>\n",
              "      <td>0</td>\n",
              "      <td>...</td>\n",
              "      <td>1</td>\n",
              "      <td>0</td>\n",
              "      <td>0</td>\n",
              "      <td>77</td>\n",
              "      <td>5767</td>\n",
              "      <td>0</td>\n",
              "      <td>0</td>\n",
              "      <td>1</td>\n",
              "      <td>2</td>\n",
              "      <td>phishing</td>\n",
              "    </tr>\n",
              "    <tr>\n",
              "      <th>2</th>\n",
              "      <td>https://support-appleld.com.secureupdate.duila...</td>\n",
              "      <td>126</td>\n",
              "      <td>50</td>\n",
              "      <td>1</td>\n",
              "      <td>4</td>\n",
              "      <td>1</td>\n",
              "      <td>0</td>\n",
              "      <td>1</td>\n",
              "      <td>2</td>\n",
              "      <td>0</td>\n",
              "      <td>...</td>\n",
              "      <td>1</td>\n",
              "      <td>0</td>\n",
              "      <td>0</td>\n",
              "      <td>14</td>\n",
              "      <td>4004</td>\n",
              "      <td>5828815</td>\n",
              "      <td>0</td>\n",
              "      <td>1</td>\n",
              "      <td>0</td>\n",
              "      <td>phishing</td>\n",
              "    </tr>\n",
              "    <tr>\n",
              "      <th>3</th>\n",
              "      <td>http://rgipt.ac.in</td>\n",
              "      <td>18</td>\n",
              "      <td>11</td>\n",
              "      <td>0</td>\n",
              "      <td>2</td>\n",
              "      <td>0</td>\n",
              "      <td>0</td>\n",
              "      <td>0</td>\n",
              "      <td>0</td>\n",
              "      <td>0</td>\n",
              "      <td>...</td>\n",
              "      <td>1</td>\n",
              "      <td>0</td>\n",
              "      <td>0</td>\n",
              "      <td>62</td>\n",
              "      <td>-1</td>\n",
              "      <td>107721</td>\n",
              "      <td>0</td>\n",
              "      <td>0</td>\n",
              "      <td>3</td>\n",
              "      <td>legitimate</td>\n",
              "    </tr>\n",
              "    <tr>\n",
              "      <th>4</th>\n",
              "      <td>http://www.iracing.com/tracks/gateway-motorspo...</td>\n",
              "      <td>55</td>\n",
              "      <td>15</td>\n",
              "      <td>0</td>\n",
              "      <td>2</td>\n",
              "      <td>2</td>\n",
              "      <td>0</td>\n",
              "      <td>0</td>\n",
              "      <td>0</td>\n",
              "      <td>0</td>\n",
              "      <td>...</td>\n",
              "      <td>0</td>\n",
              "      <td>1</td>\n",
              "      <td>0</td>\n",
              "      <td>224</td>\n",
              "      <td>8175</td>\n",
              "      <td>8725</td>\n",
              "      <td>0</td>\n",
              "      <td>0</td>\n",
              "      <td>6</td>\n",
              "      <td>legitimate</td>\n",
              "    </tr>\n",
              "  </tbody>\n",
              "</table>\n",
              "<p>5 rows × 89 columns</p>\n",
              "</div>\n",
              "      <button class=\"colab-df-convert\" onclick=\"convertToInteractive('df-a2a620b4-ec9b-4701-9912-3370e2735a25')\"\n",
              "              title=\"Convert this dataframe to an interactive table.\"\n",
              "              style=\"display:none;\">\n",
              "        \n",
              "  <svg xmlns=\"http://www.w3.org/2000/svg\" height=\"24px\"viewBox=\"0 0 24 24\"\n",
              "       width=\"24px\">\n",
              "    <path d=\"M0 0h24v24H0V0z\" fill=\"none\"/>\n",
              "    <path d=\"M18.56 5.44l.94 2.06.94-2.06 2.06-.94-2.06-.94-.94-2.06-.94 2.06-2.06.94zm-11 1L8.5 8.5l.94-2.06 2.06-.94-2.06-.94L8.5 2.5l-.94 2.06-2.06.94zm10 10l.94 2.06.94-2.06 2.06-.94-2.06-.94-.94-2.06-.94 2.06-2.06.94z\"/><path d=\"M17.41 7.96l-1.37-1.37c-.4-.4-.92-.59-1.43-.59-.52 0-1.04.2-1.43.59L10.3 9.45l-7.72 7.72c-.78.78-.78 2.05 0 2.83L4 21.41c.39.39.9.59 1.41.59.51 0 1.02-.2 1.41-.59l7.78-7.78 2.81-2.81c.8-.78.8-2.07 0-2.86zM5.41 20L4 18.59l7.72-7.72 1.47 1.35L5.41 20z\"/>\n",
              "  </svg>\n",
              "      </button>\n",
              "      \n",
              "  <style>\n",
              "    .colab-df-container {\n",
              "      display:flex;\n",
              "      flex-wrap:wrap;\n",
              "      gap: 12px;\n",
              "    }\n",
              "\n",
              "    .colab-df-convert {\n",
              "      background-color: #E8F0FE;\n",
              "      border: none;\n",
              "      border-radius: 50%;\n",
              "      cursor: pointer;\n",
              "      display: none;\n",
              "      fill: #1967D2;\n",
              "      height: 32px;\n",
              "      padding: 0 0 0 0;\n",
              "      width: 32px;\n",
              "    }\n",
              "\n",
              "    .colab-df-convert:hover {\n",
              "      background-color: #E2EBFA;\n",
              "      box-shadow: 0px 1px 2px rgba(60, 64, 67, 0.3), 0px 1px 3px 1px rgba(60, 64, 67, 0.15);\n",
              "      fill: #174EA6;\n",
              "    }\n",
              "\n",
              "    [theme=dark] .colab-df-convert {\n",
              "      background-color: #3B4455;\n",
              "      fill: #D2E3FC;\n",
              "    }\n",
              "\n",
              "    [theme=dark] .colab-df-convert:hover {\n",
              "      background-color: #434B5C;\n",
              "      box-shadow: 0px 1px 3px 1px rgba(0, 0, 0, 0.15);\n",
              "      filter: drop-shadow(0px 1px 2px rgba(0, 0, 0, 0.3));\n",
              "      fill: #FFFFFF;\n",
              "    }\n",
              "  </style>\n",
              "\n",
              "      <script>\n",
              "        const buttonEl =\n",
              "          document.querySelector('#df-a2a620b4-ec9b-4701-9912-3370e2735a25 button.colab-df-convert');\n",
              "        buttonEl.style.display =\n",
              "          google.colab.kernel.accessAllowed ? 'block' : 'none';\n",
              "\n",
              "        async function convertToInteractive(key) {\n",
              "          const element = document.querySelector('#df-a2a620b4-ec9b-4701-9912-3370e2735a25');\n",
              "          const dataTable =\n",
              "            await google.colab.kernel.invokeFunction('convertToInteractive',\n",
              "                                                     [key], {});\n",
              "          if (!dataTable) return;\n",
              "\n",
              "          const docLinkHtml = 'Like what you see? Visit the ' +\n",
              "            '<a target=\"_blank\" href=https://colab.research.google.com/notebooks/data_table.ipynb>data table notebook</a>'\n",
              "            + ' to learn more about interactive tables.';\n",
              "          element.innerHTML = '';\n",
              "          dataTable['output_type'] = 'display_data';\n",
              "          await google.colab.output.renderOutput(dataTable, element);\n",
              "          const docLink = document.createElement('div');\n",
              "          docLink.innerHTML = docLinkHtml;\n",
              "          element.appendChild(docLink);\n",
              "        }\n",
              "      </script>\n",
              "    </div>\n",
              "  </div>\n",
              "  "
            ]
          },
          "metadata": {},
          "execution_count": 3
        }
      ],
      "source": [
        "df.head()"
      ]
    },
    {
      "cell_type": "code",
      "execution_count": 4,
      "id": "984b9f40",
      "metadata": {
        "colab": {
          "base_uri": "https://localhost:8080/",
          "height": 206
        },
        "id": "984b9f40",
        "outputId": "db34e7da-a36c-40cc-894f-34f1c4c3908e"
      },
      "outputs": [
        {
          "output_type": "execute_result",
          "data": {
            "text/plain": [
              "                                                 url  target\n",
              "0              http://www.crestonwood.com/router.php       1\n",
              "1  http://shadetreetechnology.com/V4/validation/a...       0\n",
              "2  https://support-appleld.com.secureupdate.duila...       0\n",
              "3                                 http://rgipt.ac.in       1\n",
              "4  http://www.iracing.com/tracks/gateway-motorspo...       1"
            ],
            "text/html": [
              "\n",
              "  <div id=\"df-a4fd9d1a-a787-41c6-9020-1a66c7dd4f88\">\n",
              "    <div class=\"colab-df-container\">\n",
              "      <div>\n",
              "<style scoped>\n",
              "    .dataframe tbody tr th:only-of-type {\n",
              "        vertical-align: middle;\n",
              "    }\n",
              "\n",
              "    .dataframe tbody tr th {\n",
              "        vertical-align: top;\n",
              "    }\n",
              "\n",
              "    .dataframe thead th {\n",
              "        text-align: right;\n",
              "    }\n",
              "</style>\n",
              "<table border=\"1\" class=\"dataframe\">\n",
              "  <thead>\n",
              "    <tr style=\"text-align: right;\">\n",
              "      <th></th>\n",
              "      <th>url</th>\n",
              "      <th>target</th>\n",
              "    </tr>\n",
              "  </thead>\n",
              "  <tbody>\n",
              "    <tr>\n",
              "      <th>0</th>\n",
              "      <td>http://www.crestonwood.com/router.php</td>\n",
              "      <td>1</td>\n",
              "    </tr>\n",
              "    <tr>\n",
              "      <th>1</th>\n",
              "      <td>http://shadetreetechnology.com/V4/validation/a...</td>\n",
              "      <td>0</td>\n",
              "    </tr>\n",
              "    <tr>\n",
              "      <th>2</th>\n",
              "      <td>https://support-appleld.com.secureupdate.duila...</td>\n",
              "      <td>0</td>\n",
              "    </tr>\n",
              "    <tr>\n",
              "      <th>3</th>\n",
              "      <td>http://rgipt.ac.in</td>\n",
              "      <td>1</td>\n",
              "    </tr>\n",
              "    <tr>\n",
              "      <th>4</th>\n",
              "      <td>http://www.iracing.com/tracks/gateway-motorspo...</td>\n",
              "      <td>1</td>\n",
              "    </tr>\n",
              "  </tbody>\n",
              "</table>\n",
              "</div>\n",
              "      <button class=\"colab-df-convert\" onclick=\"convertToInteractive('df-a4fd9d1a-a787-41c6-9020-1a66c7dd4f88')\"\n",
              "              title=\"Convert this dataframe to an interactive table.\"\n",
              "              style=\"display:none;\">\n",
              "        \n",
              "  <svg xmlns=\"http://www.w3.org/2000/svg\" height=\"24px\"viewBox=\"0 0 24 24\"\n",
              "       width=\"24px\">\n",
              "    <path d=\"M0 0h24v24H0V0z\" fill=\"none\"/>\n",
              "    <path d=\"M18.56 5.44l.94 2.06.94-2.06 2.06-.94-2.06-.94-.94-2.06-.94 2.06-2.06.94zm-11 1L8.5 8.5l.94-2.06 2.06-.94-2.06-.94L8.5 2.5l-.94 2.06-2.06.94zm10 10l.94 2.06.94-2.06 2.06-.94-2.06-.94-.94-2.06-.94 2.06-2.06.94z\"/><path d=\"M17.41 7.96l-1.37-1.37c-.4-.4-.92-.59-1.43-.59-.52 0-1.04.2-1.43.59L10.3 9.45l-7.72 7.72c-.78.78-.78 2.05 0 2.83L4 21.41c.39.39.9.59 1.41.59.51 0 1.02-.2 1.41-.59l7.78-7.78 2.81-2.81c.8-.78.8-2.07 0-2.86zM5.41 20L4 18.59l7.72-7.72 1.47 1.35L5.41 20z\"/>\n",
              "  </svg>\n",
              "      </button>\n",
              "      \n",
              "  <style>\n",
              "    .colab-df-container {\n",
              "      display:flex;\n",
              "      flex-wrap:wrap;\n",
              "      gap: 12px;\n",
              "    }\n",
              "\n",
              "    .colab-df-convert {\n",
              "      background-color: #E8F0FE;\n",
              "      border: none;\n",
              "      border-radius: 50%;\n",
              "      cursor: pointer;\n",
              "      display: none;\n",
              "      fill: #1967D2;\n",
              "      height: 32px;\n",
              "      padding: 0 0 0 0;\n",
              "      width: 32px;\n",
              "    }\n",
              "\n",
              "    .colab-df-convert:hover {\n",
              "      background-color: #E2EBFA;\n",
              "      box-shadow: 0px 1px 2px rgba(60, 64, 67, 0.3), 0px 1px 3px 1px rgba(60, 64, 67, 0.15);\n",
              "      fill: #174EA6;\n",
              "    }\n",
              "\n",
              "    [theme=dark] .colab-df-convert {\n",
              "      background-color: #3B4455;\n",
              "      fill: #D2E3FC;\n",
              "    }\n",
              "\n",
              "    [theme=dark] .colab-df-convert:hover {\n",
              "      background-color: #434B5C;\n",
              "      box-shadow: 0px 1px 3px 1px rgba(0, 0, 0, 0.15);\n",
              "      filter: drop-shadow(0px 1px 2px rgba(0, 0, 0, 0.3));\n",
              "      fill: #FFFFFF;\n",
              "    }\n",
              "  </style>\n",
              "\n",
              "      <script>\n",
              "        const buttonEl =\n",
              "          document.querySelector('#df-a4fd9d1a-a787-41c6-9020-1a66c7dd4f88 button.colab-df-convert');\n",
              "        buttonEl.style.display =\n",
              "          google.colab.kernel.accessAllowed ? 'block' : 'none';\n",
              "\n",
              "        async function convertToInteractive(key) {\n",
              "          const element = document.querySelector('#df-a4fd9d1a-a787-41c6-9020-1a66c7dd4f88');\n",
              "          const dataTable =\n",
              "            await google.colab.kernel.invokeFunction('convertToInteractive',\n",
              "                                                     [key], {});\n",
              "          if (!dataTable) return;\n",
              "\n",
              "          const docLinkHtml = 'Like what you see? Visit the ' +\n",
              "            '<a target=\"_blank\" href=https://colab.research.google.com/notebooks/data_table.ipynb>data table notebook</a>'\n",
              "            + ' to learn more about interactive tables.';\n",
              "          element.innerHTML = '';\n",
              "          dataTable['output_type'] = 'display_data';\n",
              "          await google.colab.output.renderOutput(dataTable, element);\n",
              "          const docLink = document.createElement('div');\n",
              "          docLink.innerHTML = docLinkHtml;\n",
              "          element.appendChild(docLink);\n",
              "        }\n",
              "      </script>\n",
              "    </div>\n",
              "  </div>\n",
              "  "
            ]
          },
          "metadata": {},
          "execution_count": 4
        }
      ],
      "source": [
        "df['target'] = pd.get_dummies(df['status'])['legitimate'].astype('int')\n",
        "df.drop('status',axis = 1, inplace=True)\n",
        "df[['url','target']].head(5)"
      ]
    },
    {
      "cell_type": "code",
      "execution_count": 5,
      "id": "4e642400",
      "metadata": {
        "colab": {
          "base_uri": "https://localhost:8080/",
          "height": 49
        },
        "id": "4e642400",
        "outputId": "df5f3221-50e5-4655-a790-1dfc2635e971"
      },
      "outputs": [
        {
          "output_type": "execute_result",
          "data": {
            "text/plain": [
              "Empty DataFrame\n",
              "Columns: [index, missing_val]\n",
              "Index: []"
            ],
            "text/html": [
              "\n",
              "  <div id=\"df-5d8a270b-7063-4fa7-8782-b66d67814db5\">\n",
              "    <div class=\"colab-df-container\">\n",
              "      <div>\n",
              "<style scoped>\n",
              "    .dataframe tbody tr th:only-of-type {\n",
              "        vertical-align: middle;\n",
              "    }\n",
              "\n",
              "    .dataframe tbody tr th {\n",
              "        vertical-align: top;\n",
              "    }\n",
              "\n",
              "    .dataframe thead th {\n",
              "        text-align: right;\n",
              "    }\n",
              "</style>\n",
              "<table border=\"1\" class=\"dataframe\">\n",
              "  <thead>\n",
              "    <tr style=\"text-align: right;\">\n",
              "      <th></th>\n",
              "      <th>index</th>\n",
              "      <th>missing_val</th>\n",
              "    </tr>\n",
              "  </thead>\n",
              "  <tbody>\n",
              "  </tbody>\n",
              "</table>\n",
              "</div>\n",
              "      <button class=\"colab-df-convert\" onclick=\"convertToInteractive('df-5d8a270b-7063-4fa7-8782-b66d67814db5')\"\n",
              "              title=\"Convert this dataframe to an interactive table.\"\n",
              "              style=\"display:none;\">\n",
              "        \n",
              "  <svg xmlns=\"http://www.w3.org/2000/svg\" height=\"24px\"viewBox=\"0 0 24 24\"\n",
              "       width=\"24px\">\n",
              "    <path d=\"M0 0h24v24H0V0z\" fill=\"none\"/>\n",
              "    <path d=\"M18.56 5.44l.94 2.06.94-2.06 2.06-.94-2.06-.94-.94-2.06-.94 2.06-2.06.94zm-11 1L8.5 8.5l.94-2.06 2.06-.94-2.06-.94L8.5 2.5l-.94 2.06-2.06.94zm10 10l.94 2.06.94-2.06 2.06-.94-2.06-.94-.94-2.06-.94 2.06-2.06.94z\"/><path d=\"M17.41 7.96l-1.37-1.37c-.4-.4-.92-.59-1.43-.59-.52 0-1.04.2-1.43.59L10.3 9.45l-7.72 7.72c-.78.78-.78 2.05 0 2.83L4 21.41c.39.39.9.59 1.41.59.51 0 1.02-.2 1.41-.59l7.78-7.78 2.81-2.81c.8-.78.8-2.07 0-2.86zM5.41 20L4 18.59l7.72-7.72 1.47 1.35L5.41 20z\"/>\n",
              "  </svg>\n",
              "      </button>\n",
              "      \n",
              "  <style>\n",
              "    .colab-df-container {\n",
              "      display:flex;\n",
              "      flex-wrap:wrap;\n",
              "      gap: 12px;\n",
              "    }\n",
              "\n",
              "    .colab-df-convert {\n",
              "      background-color: #E8F0FE;\n",
              "      border: none;\n",
              "      border-radius: 50%;\n",
              "      cursor: pointer;\n",
              "      display: none;\n",
              "      fill: #1967D2;\n",
              "      height: 32px;\n",
              "      padding: 0 0 0 0;\n",
              "      width: 32px;\n",
              "    }\n",
              "\n",
              "    .colab-df-convert:hover {\n",
              "      background-color: #E2EBFA;\n",
              "      box-shadow: 0px 1px 2px rgba(60, 64, 67, 0.3), 0px 1px 3px 1px rgba(60, 64, 67, 0.15);\n",
              "      fill: #174EA6;\n",
              "    }\n",
              "\n",
              "    [theme=dark] .colab-df-convert {\n",
              "      background-color: #3B4455;\n",
              "      fill: #D2E3FC;\n",
              "    }\n",
              "\n",
              "    [theme=dark] .colab-df-convert:hover {\n",
              "      background-color: #434B5C;\n",
              "      box-shadow: 0px 1px 3px 1px rgba(0, 0, 0, 0.15);\n",
              "      filter: drop-shadow(0px 1px 2px rgba(0, 0, 0, 0.3));\n",
              "      fill: #FFFFFF;\n",
              "    }\n",
              "  </style>\n",
              "\n",
              "      <script>\n",
              "        const buttonEl =\n",
              "          document.querySelector('#df-5d8a270b-7063-4fa7-8782-b66d67814db5 button.colab-df-convert');\n",
              "        buttonEl.style.display =\n",
              "          google.colab.kernel.accessAllowed ? 'block' : 'none';\n",
              "\n",
              "        async function convertToInteractive(key) {\n",
              "          const element = document.querySelector('#df-5d8a270b-7063-4fa7-8782-b66d67814db5');\n",
              "          const dataTable =\n",
              "            await google.colab.kernel.invokeFunction('convertToInteractive',\n",
              "                                                     [key], {});\n",
              "          if (!dataTable) return;\n",
              "\n",
              "          const docLinkHtml = 'Like what you see? Visit the ' +\n",
              "            '<a target=\"_blank\" href=https://colab.research.google.com/notebooks/data_table.ipynb>data table notebook</a>'\n",
              "            + ' to learn more about interactive tables.';\n",
              "          element.innerHTML = '';\n",
              "          dataTable['output_type'] = 'display_data';\n",
              "          await google.colab.output.renderOutput(dataTable, element);\n",
              "          const docLink = document.createElement('div');\n",
              "          docLink.innerHTML = docLinkHtml;\n",
              "          element.appendChild(docLink);\n",
              "        }\n",
              "      </script>\n",
              "    </div>\n",
              "  </div>\n",
              "  "
            ]
          },
          "metadata": {},
          "execution_count": 5
        }
      ],
      "source": [
        "tmp = df.isnull().sum().reset_index(name='missing_val')\n",
        "tmp[tmp['missing_val']!= 0]"
      ]
    },
    {
      "cell_type": "code",
      "execution_count": 6,
      "id": "d03fa7c7",
      "metadata": {
        "id": "d03fa7c7"
      },
      "outputs": [],
      "source": [
        "df1 = pd.DataFrame(df)\n",
        "df1 = df1.sample(n=10000)"
      ]
    },
    {
      "cell_type": "code",
      "execution_count": 7,
      "id": "95d22abb",
      "metadata": {
        "id": "95d22abb"
      },
      "outputs": [],
      "source": [
        "from io import StringIO"
      ]
    },
    {
      "cell_type": "code",
      "execution_count": 8,
      "id": "1a71a5e2",
      "metadata": {
        "id": "1a71a5e2"
      },
      "outputs": [],
      "source": [
        "col = ['target','url']\n",
        "df1 = df1[col]\n",
        "#Deleting nulls\n",
        "df1 = df1[pd.notnull(df1['url'])]\n",
        "#more settings for our data manipulation\n",
        "df1.columns = ['target', 'url']\n",
        "df1['category_id'] = df1['target'].factorize()[0]\n",
        "category_id_df = df1[['target', 'category_id']].drop_duplicates().sort_values('category_id')\n",
        "category_to_id = dict(category_id_df.values)\n",
        "id_to_category = dict(category_id_df[['category_id', 'target']].values)"
      ]
    },
    {
      "cell_type": "code",
      "execution_count": 9,
      "id": "5aa115d2",
      "metadata": {
        "id": "5aa115d2"
      },
      "outputs": [],
      "source": [
        "import matplotlib.pyplot as plt"
      ]
    },
    {
      "cell_type": "code",
      "execution_count": 10,
      "id": "bc6a024c",
      "metadata": {
        "id": "bc6a024c",
        "outputId": "76405349-5faa-410f-b970-466fcefd28e0",
        "colab": {
          "base_uri": "https://localhost:8080/",
          "height": 281
        }
      },
      "outputs": [
        {
          "output_type": "display_data",
          "data": {
            "text/plain": [
              "<Figure size 432x288 with 1 Axes>"
            ],
            "image/png": "[encoded data removed]"
          },
          "metadata": {
            "needs_background": "light"
          }
        }
      ],
      "source": [
        "BAD_len = df1[df1['target'] == 0].shape[0]\n",
        "GOOD_len = df1[df1['target'] == 1].shape[0]\n",
        "plt.bar(10,BAD_len,3, label='BAD URL')\n",
        "plt.bar(15,GOOD_len,3, label='GOOD URL')\n",
        "plt.legend()\n",
        "plt.ylabel('Number of examples')\n",
        "plt.title('Proportion of examples')\n",
        "plt.show()"
      ]
    },
    {
      "cell_type": "code",
      "execution_count": 11,
      "id": "c612e221",
      "metadata": {
        "id": "c612e221",
        "outputId": "06da4d6d-ea16-44d0-f067-92958298b946",
        "colab": {
          "base_uri": "https://localhost:8080/",
          "height": 282
        }
      },
      "outputs": [
        {
          "output_type": "execute_result",
          "data": {
            "text/plain": [
              "<matplotlib.axes._subplots.AxesSubplot at 0x7f668d1a1290>"
            ]
          },
          "metadata": {},
          "execution_count": 11
        },
        {
          "output_type": "display_data",
          "data": {
            "text/plain": [
              "<Figure size 432x288 with 1 Axes>"
            ],
            "image/png": "[encoded data removed]"
          },
          "metadata": {
            "needs_background": "light"
          }
        }
      ],
      "source": [
        "import matplotlib.pyplot as plt\n",
        "%matplotlib inline\n",
        "lens = df.url.str.len()\n",
        "lens.hist(bins = np.arange(0,300,10))"
      ]
    },
    {
      "cell_type": "code",
      "execution_count": 12,
      "id": "2cd34178",
      "metadata": {
        "id": "2cd34178"
      },
      "outputs": [],
      "source": [
        "#tokenizer function for URL by Faizan Ahmad, CEO FSecurify\n",
        "def getTokens(input):\n",
        "    tokensBySlash = str(input.encode('utf-8')).split('/')\n",
        "    allTokens=[]\n",
        "    for i in tokensBySlash:\n",
        "        tokens = str(i).split('-')\n",
        "        tokensByDot = []\n",
        "        for j in range(0,len(tokens)):\n",
        "            tempTokens = str(tokens[j]).split('.')\n",
        "            tokentsByDot = tokensByDot + tempTokens\n",
        "        allTokens = allTokens + tokens + tokensByDot\n",
        "    allTokens = list(set(allTokens))\n",
        "    if 'com' in allTokens:\n",
        "        allTokens.remove('com')\n",
        "    return allTokens"
      ]
    },
    {
      "cell_type": "code",
      "execution_count": 13,
      "id": "502e7be5",
      "metadata": {
        "id": "502e7be5"
      },
      "outputs": [],
      "source": [
        "from sklearn.feature_extraction.text import TfidfVectorizer"
      ]
    },
    {
      "cell_type": "code",
      "execution_count": 14,
      "id": "8554806d",
      "metadata": {
        "id": "8554806d"
      },
      "outputs": [],
      "source": [
        "y = [d[1]for d in df1] #labels\n",
        "myUrls = [d[0]for d in df1] #urls\n",
        "vectorizer = TfidfVectorizer( tokenizer=getTokens ,use_idf=True, smooth_idf=True, sublinear_tf=False)"
      ]
    },
    {
      "cell_type": "code",
      "execution_count": 15,
      "id": "b1277050",
      "metadata": {
        "colab": {
          "base_uri": "https://localhost:8080/"
        },
        "id": "b1277050",
        "outputId": "cc1d6a6d-55ea-42f7-91b4-daf21c3f88b5"
      },
      "outputs": [
        {
          "output_type": "execute_result",
          "data": {
            "text/plain": [
              "(10000, 19352)"
            ]
          },
          "metadata": {},
          "execution_count": 15
        }
      ],
      "source": [
        "features = vectorizer.fit_transform(df1.url).toarray()\n",
        "target = df1.target\n",
        "features.shape"
      ]
    },
    {
      "cell_type": "code",
      "source": [
        "import pickle\n",
        "\n",
        "pickle.dump(features, open(\"feat.pickle\", \"wb\"))"
      ],
      "metadata": {
        "id": "lh6gadSDTND8"
      },
      "id": "lh6gadSDTND8",
      "execution_count": 16,
      "outputs": []
    },
    {
      "cell_type": "code",
      "execution_count": 17,
      "id": "4b95710b",
      "metadata": {
        "id": "4b95710b"
      },
      "outputs": [],
      "source": [
        "from sklearn.model_selection import train_test_split\n",
        "X_train, X_test, y_train, y_test, indices_train, indices_test = train_test_split(features, target, df1.index, test_size=0.20, random_state=0)"
      ]
    },
    {
      "cell_type": "code",
      "execution_count": 18,
      "id": "126a0d65",
      "metadata": {
        "colab": {
          "base_uri": "https://localhost:8080/"
        },
        "id": "126a0d65",
        "outputId": "e3399887-de33-41ef-a05e-477c2e0f7848"
      },
      "outputs": [
        {
          "output_type": "execute_result",
          "data": {
            "text/plain": [
              "Index(['target', 'url', 'category_id'], dtype='object')"
            ]
          },
          "metadata": {},
          "execution_count": 18
        }
      ],
      "source": [
        "df1.columns"
      ]
    },
    {
      "cell_type": "markdown",
      "source": [
        "###MLP churn"
      ],
      "metadata": {
        "id": "fr-lVxt9Z9by"
      },
      "id": "fr-lVxt9Z9by"
    },
    {
      "cell_type": "code",
      "source": [
        "import torch\n",
        "from torch.utils.data import TensorDataset\n",
        "from torch.utils.data import DataLoader\n",
        "import torch.nn as nn"
      ],
      "metadata": {
        "id": "gjGjGy8V--eE"
      },
      "id": "gjGjGy8V--eE",
      "execution_count": null,
      "outputs": []
    },
    {
      "cell_type": "code",
      "source": [
        "x_tensor =  torch.from_numpy(X_train).float()\n",
        "y_tensor =  torch.from_numpy(y_train.values.ravel()).float()\n",
        "xtest_tensor =  torch.from_numpy(X_test).float()\n",
        "ytest_tensor =  torch.from_numpy(y_test.values.ravel()).float()\n",
        "\n",
        "print(\"\\nTrain set Tensors \\n\")\n",
        "print(x_tensor)\n",
        "print(y_tensor)\n",
        "print(\"\\nTest set Tensors \\n\")\n",
        "print(xtest_tensor)\n",
        "print(ytest_tensor)"
      ],
      "metadata": {
        "id": "e8vM7h_j_Mze"
      },
      "id": "e8vM7h_j_Mze",
      "execution_count": null,
      "outputs": []
    },
    {
      "cell_type": "code",
      "source": [
        "#Define a batch size , \n",
        "bs = 64\n",
        "#Both x_train and y_train can be combined in a single TensorDataset, which will be easier to iterate over and slice\n",
        "y_tensor = y_tensor.unsqueeze(1)\n",
        "train_ds = TensorDataset(x_tensor, y_tensor)\n",
        "#Pytorch’s DataLoader is responsible for managing batches. \n",
        "#You can create a DataLoader from any Dataset. DataLoader makes it easier to iterate over batches\n",
        "train_dl = DataLoader(train_ds, batch_size=bs)\n",
        "\n",
        "\n",
        "#For the validation/test dataset\n",
        "ytest_tensor = ytest_tensor.unsqueeze(1)\n",
        "test_ds = TensorDataset(xtest_tensor, ytest_tensor)\n",
        "test_loader = DataLoader(test_ds, batch_size=32)"
      ],
      "metadata": {
        "id": "ei4iFr6W_i-7"
      },
      "id": "ei4iFr6W_i-7",
      "execution_count": null,
      "outputs": []
    },
    {
      "cell_type": "code",
      "source": [
        "n_input_dim = X_train.shape[1]\n",
        "\n",
        "#Layer size\n",
        "n_hidden1 = 300  # Number of hidden nodes\n",
        "n_hidden2 = 100\n",
        "n_output =  1   # Number of output nodes = for binary classifier\n",
        "\n",
        "\n",
        "class ChurnModel(nn.Module):\n",
        "    def __init__(self):\n",
        "        super(ChurnModel, self).__init__()\n",
        "        self.layer_1 = nn.Linear(n_input_dim, n_hidden1) \n",
        "        self.layer_2 = nn.Linear(n_hidden1, n_hidden2)\n",
        "        self.layer_out = nn.Linear(n_hidden2, n_output) \n",
        "        \n",
        "        \n",
        "        self.relu = nn.ReLU()\n",
        "        self.sigmoid =  nn.Sigmoid()\n",
        "        self.dropout = nn.Dropout(p=0.1)\n",
        "        self.batchnorm1 = nn.BatchNorm1d(n_hidden1)\n",
        "        self.batchnorm2 = nn.BatchNorm1d(n_hidden2)\n",
        "        \n",
        "        \n",
        "    def forward(self, inputs):\n",
        "        x = self.relu(self.layer_1(inputs))\n",
        "        x = self.batchnorm1(x)\n",
        "        x = self.relu(self.layer_2(x))\n",
        "        x = self.batchnorm2(x)\n",
        "        x = self.dropout(x)\n",
        "        x = self.sigmoid(self.layer_out(x))\n",
        "        \n",
        "        return x\n",
        "    \n",
        "\n",
        "model_churn = ChurnModel()\n",
        "print(model_churn)"
      ],
      "metadata": {
        "id": "miQMnkJ9_3Yz"
      },
      "id": "miQMnkJ9_3Yz",
      "execution_count": null,
      "outputs": []
    },
    {
      "cell_type": "code",
      "source": [
        "#Loss Computation\n",
        "loss_func = nn.BCELoss()\n",
        "#Optimizer\n",
        "learning_rate = 0.001\n",
        "optimizer = torch.optim.Adam(model_churn.parameters(), lr=learning_rate)\n",
        "epochs = 50"
      ],
      "metadata": {
        "id": "M7Sz2BM3ADTc"
      },
      "id": "M7Sz2BM3ADTc",
      "execution_count": null,
      "outputs": []
    },
    {
      "cell_type": "code",
      "source": [
        "model_churn.train()\n",
        "train_loss = []\n",
        "for epoch in range(epochs):\n",
        "    #Within each epoch run the subsets of data = batch sizes.\n",
        "    for xb, yb in train_dl:\n",
        "        y_pred = model_churn(xb)            # Forward Propagation\n",
        "        loss = loss_func(y_pred, yb)  # Loss Computation\n",
        "        optimizer.zero_grad()         # Clearing all previous gradients, setting to zero \n",
        "        loss.backward()               # Back Propagation\n",
        "        optimizer.step()              # Updating the parameters \n",
        "    #print(\"Loss in iteration :\"+str(epoch)+\" is: \"+str(loss.item()))\n",
        "    train_loss.append(loss.item())\n",
        "print('Last iteration loss value: '+str(loss.item()))"
      ],
      "metadata": {
        "id": "QjJ3_-FBAML1"
      },
      "id": "QjJ3_-FBAML1",
      "execution_count": null,
      "outputs": []
    },
    {
      "cell_type": "code",
      "source": [
        "import itertools\n",
        "\n",
        "y_pred_list = []\n",
        "model_churn.eval()\n",
        "#Since we don't need model to back propagate the gradients in test set we use torch.no_grad()\n",
        "# reduces memory usage and speeds up computation\n",
        "with torch.no_grad():\n",
        "    for xb_test,yb_test  in test_loader:\n",
        "        y_test_pred = model_churn(xb_test)\n",
        "        y_pred_tag = torch.round(y_test_pred)\n",
        "        y_pred_list.append(y_pred_tag.detach().numpy())\n",
        "\n",
        "#Takes arrays and makes them list of list for each batch        \n",
        "y_pred_list = [a.squeeze().tolist() for a in y_pred_list]\n",
        "#flattens the lists in sequence\n",
        "ytest_pred = list(itertools.chain.from_iterable(y_pred_list))"
      ],
      "metadata": {
        "id": "mNKOQir2HGYw"
      },
      "id": "mNKOQir2HGYw",
      "execution_count": null,
      "outputs": []
    },
    {
      "cell_type": "code",
      "source": [
        "from sklearn.metrics import confusion_matrix, precision_score, recall_score, f1_score\n",
        "y_true_test = y_test.values.ravel()\n",
        "conf_matrix = confusion_matrix(y_true_test ,ytest_pred)"
      ],
      "metadata": {
        "id": "NOhfPKICIB13"
      },
      "id": "NOhfPKICIB13",
      "execution_count": null,
      "outputs": []
    },
    {
      "cell_type": "code",
      "source": [
        "print(\"Confusion Matrix of the Test Set\")\n",
        "print(\"-----------\")\n",
        "print(conf_matrix)\n",
        "print(\"Precision of the MLP :\\t\"+str(precision_score(y_true_test,ytest_pred)))\n",
        "print(\"Recall of the MLP    :\\t\"+str(recall_score(y_true_test,ytest_pred)))\n",
        "print(\"F1 Score of the Model :\\t\"+str(f1_score(y_true_test,ytest_pred)))"
      ],
      "metadata": {
        "id": "PpGJq2y7IS7u"
      },
      "id": "PpGJq2y7IS7u",
      "execution_count": null,
      "outputs": []
    },
    {
      "cell_type": "code",
      "source": [
        "X_predict = [\"www.radsport-voggel.de/wp-admin/includes/log.exe\"]\n",
        "X_predict = vectorizer.transform(X_predict)"
      ],
      "metadata": {
        "id": "r9h09u_RIgHt"
      },
      "id": "r9h09u_RIgHt",
      "execution_count": null,
      "outputs": []
    },
    {
      "cell_type": "code",
      "source": [
        "\n",
        "X_predict = X_predict.toarray\n",
        "#print(X_predict)"
      ],
      "metadata": {
        "id": "aw0j87sjE9te"
      },
      "id": "aw0j87sjE9te",
      "execution_count": null,
      "outputs": []
    },
    {
      "cell_type": "code",
      "source": [
        "type(X_predict)"
      ],
      "metadata": {
        "id": "zQcgScuvQTd4"
      },
      "id": "zQcgScuvQTd4",
      "execution_count": null,
      "outputs": []
    },
    {
      "cell_type": "code",
      "source": [
        "X_predict=X_predict.todense()\n",
        "print(X_predict)"
      ],
      "metadata": {
        "id": "nxETIuo6PjeS"
      },
      "id": "nxETIuo6PjeS",
      "execution_count": null,
      "outputs": []
    },
    {
      "cell_type": "code",
      "source": [
        "X_predict.shape"
      ],
      "metadata": {
        "id": "Z0uo_6PcYEGU"
      },
      "id": "Z0uo_6PcYEGU",
      "execution_count": null,
      "outputs": []
    },
    {
      "cell_type": "code",
      "source": [
        "type(X_predict)"
      ],
      "metadata": {
        "id": "K0zKx9vaZEwA"
      },
      "id": "K0zKx9vaZEwA",
      "execution_count": null,
      "outputs": []
    },
    {
      "cell_type": "code",
      "source": [
        "okay =  torch.from_numpy(X_predict).float()\n",
        "#okay = okay.unsqueeze(1)\n",
        "predict = DataLoader(test_ds, batch_size=32)\n",
        "#for i in predict:\n",
        " # y = model_churn(i)\n",
        "  #print(y)\n",
        "\n",
        "y = model_churn(okay)"
      ],
      "metadata": {
        "id": "HRe1VOdRLXPM"
      },
      "id": "HRe1VOdRLXPM",
      "execution_count": null,
      "outputs": []
    },
    {
      "cell_type": "code",
      "source": [
        "type(okay)"
      ],
      "metadata": {
        "id": "3occvQdzRoOp"
      },
      "id": "3occvQdzRoOp",
      "execution_count": null,
      "outputs": []
    },
    {
      "cell_type": "code",
      "source": [
        "okay.shape"
      ],
      "metadata": {
        "id": "Zdp_0isuZRha"
      },
      "id": "Zdp_0isuZRha",
      "execution_count": null,
      "outputs": []
    },
    {
      "cell_type": "code",
      "source": [
        "predict.shape"
      ],
      "metadata": {
        "id": "C3t-dVsjZxhu"
      },
      "id": "C3t-dVsjZxhu",
      "execution_count": null,
      "outputs": []
    },
    {
      "cell_type": "code",
      "source": [
        "tensor =  torch.from_numpy(X_predict).float()\n",
        "tensor = tensor.unsqueeze(1)\n",
        "test_ds = TensorDataset(tensor, ytest_tensor)\n",
        "test_loader = DataLoader(test_ds, batch_size=32)"
      ],
      "metadata": {
        "id": "GtRRSVxZNLS7"
      },
      "id": "GtRRSVxZNLS7",
      "execution_count": null,
      "outputs": []
    },
    {
      "cell_type": "markdown",
      "source": [
        "##Random"
      ],
      "metadata": {
        "id": "yWTtHwtka2mZ"
      },
      "id": "yWTtHwtka2mZ"
    },
    {
      "cell_type": "code",
      "source": [
        "from sklearn.ensemble import RandomForestClassifier\n",
        "forest= RandomForestClassifier(max_depth = 5)\n",
        "forest.fit(X_train, y_train)"
      ],
      "metadata": {
        "id": "9h8vV5sVa18v",
        "colab": {
          "base_uri": "https://localhost:8080/"
        },
        "outputId": "7ee2814d-5271-4d3f-9574-b14e3c9a42ca"
      },
      "id": "9h8vV5sVa18v",
      "execution_count": 19,
      "outputs": [
        {
          "output_type": "execute_result",
          "data": {
            "text/plain": [
              "RandomForestClassifier(max_depth=5)"
            ]
          },
          "metadata": {},
          "execution_count": 19
        }
      ]
    },
    {
      "cell_type": "code",
      "source": [
        "X_predict = ['https://medium.com/@ismaelbouarfa/malicious-url-detection-with-machine-learning-d57890443dec']\n",
        "X_predict = vectorizer.transform(X_predict)\n",
        "y_Predict = forest.predict(X_predict)\n",
        "print(y_Predict)"
      ],
      "metadata": {
        "id": "rUfjEIJ6bVbR",
        "colab": {
          "base_uri": "https://localhost:8080/"
        },
        "outputId": "f0d054f7-7e97-4a4f-cb55-100f1c10dfe5"
      },
      "id": "rUfjEIJ6bVbR",
      "execution_count": 20,
      "outputs": [
        {
          "output_type": "stream",
          "name": "stdout",
          "text": [
            "[1]\n"
          ]
        }
      ]
    },
    {
      "cell_type": "code",
      "source": [
        "import pickle\n",
        "filename = 'model.sav'\n",
        "pickle.dump(forest, open(filename, 'wb'))"
      ],
      "metadata": {
        "id": "3qqgfOkHcNs6"
      },
      "id": "3qqgfOkHcNs6",
      "execution_count": 22,
      "outputs": []
    },
    {
      "cell_type": "code",
      "source": [
        "loaded_model = pickle.load(open(filename, 'rb'))\n",
        "y_Predict = forest.predict(X_predict)\n",
        "print(y_Predict)"
      ],
      "metadata": {
        "id": "EypAxDT6cpJa",
        "colab": {
          "base_uri": "https://localhost:8080/"
        },
        "outputId": "a935825e-682a-4b5f-d4d4-ef9016eab651"
      },
      "id": "EypAxDT6cpJa",
      "execution_count": 23,
      "outputs": [
        {
          "output_type": "stream",
          "name": "stdout",
          "text": [
            "[1]\n"
          ]
        }
      ]
    },
    {
      "cell_type": "markdown",
      "source": [
        "#MLP"
      ],
      "metadata": {
        "id": "VWQUHNtak2fz"
      },
      "id": "VWQUHNtak2fz"
    },
    {
      "cell_type": "code",
      "source": [
        "#Importing MLPClassifier\n",
        "from sklearn.neural_network import MLPClassifier\n",
        "\n",
        "#Initializing the MLPClassifier\n",
        "classifier = MLPClassifier(hidden_layer_sizes=(150,100,50), max_iter=30,activation = 'relu',solver='adam',random_state=1)"
      ],
      "metadata": {
        "id": "j1s3z8E4k5P9"
      },
      "id": "j1s3z8E4k5P9",
      "execution_count": null,
      "outputs": []
    },
    {
      "cell_type": "code",
      "source": [
        "classifier.fit(X_train, y_train)"
      ],
      "metadata": {
        "id": "QdmcgmxWlPqj"
      },
      "id": "QdmcgmxWlPqj",
      "execution_count": null,
      "outputs": []
    },
    {
      "cell_type": "markdown",
      "source": [
        "#TOOL"
      ],
      "metadata": {
        "id": "s1n43QDjeQ7O"
      },
      "id": "s1n43QDjeQ7O"
    },
    {
      "cell_type": "markdown",
      "source": [
        "http://’www.radsport-voggel.de/wp-admin/includes/log.exe'@.php?"
      ],
      "metadata": {
        "id": "l5_I69tyfP0M"
      },
      "id": "l5_I69tyfP0M"
    },
    {
      "cell_type": "code",
      "source": [
        "import threading\n",
        "from queue import Queue\n",
        "import requests\n",
        "import random\n",
        "import sys\n",
        "import socket\n",
        "import time\n",
        "from datetime import datetime\n",
        "import pickle\n",
        "\n",
        "def port_scanner(host_name):\n",
        "    \n",
        "    print_lock = threading.Lock()\n",
        "    \n",
        "    #Defining target\n",
        "    try:\n",
        "      target = socket.gethostbyname(host_name) #Translating hostname to IPv4\n",
        "    except:\n",
        "      print(\"[Errno -2] Name or service not known\")\n",
        "\n",
        "    #Adding a banner\n",
        "    print(\"--\" * 50)\n",
        "    print(\"Starting Scan\")\n",
        "    print(\"Scanning Target \" +target)\n",
        "    print(\"Time Started :\" +str(datetime.now()))\n",
        "    print(\"--\" * 50)\n",
        "\n",
        "    print(\"\\nScanning for Open Ports....\")\n",
        "        \n",
        "    def pscan(port):\n",
        "        s = socket.socket(socket.AF_INET, socket.SOCK_STREAM)\n",
        "        \n",
        "        try:\n",
        "            socket.setdefaulttimeout(2)\n",
        "            result = s.connect_ex((target, port))\n",
        "            with print_lock:\n",
        "                if result == 0:\n",
        "                    print(\"PORT {} IS OPEN\".format(port))\n",
        "            s.close()\n",
        "\n",
        "        except KeyboardInterrupt:\n",
        "            print(\"\\n Exiting Program. \")\n",
        "            sys.exit()\n",
        "\n",
        "        except socket.gaierror:\n",
        "            print(\"Hostname could not be resolved. \")\n",
        "            sys.exit()\n",
        "        \n",
        "        except socket.error:\n",
        "            print(\"Couldn't connect to server. \")\n",
        "            sys.exit()\n",
        "\n",
        "    def threader():\n",
        "        while True:\n",
        "            worker=q.get()\n",
        "            pscan(worker)\n",
        "            q.task_done()\n",
        "\n",
        "    q= Queue()\n",
        "\n",
        "    for x in range(50):\n",
        "        t = threading.Thread(target=threader)\n",
        "        t.daemon = True\n",
        "        t.start()\n",
        "\n",
        "    for worker in range(1,1000):\n",
        "        q.put(worker)\n",
        "\n",
        "    q.join()\n",
        "\n",
        "\n",
        "\n",
        "def brute_force(website, urlp):\n",
        "    \n",
        "    url=urlp\n",
        "    wordlist=\"Common.txt\"\n",
        "    ext=\".php\"\n",
        "\n",
        "    try:\n",
        "        target = socket.gethostbyname(website) #Translating hostname to IPv4\n",
        "\n",
        "    except socket.gaierror:\n",
        "        print(\"Hostname could not be resolved. \")\n",
        "        sys.exit()\n",
        "        \n",
        "    except socket.error:\n",
        "        print(\"Couldn't connect to server. \")\n",
        "        sys.exit()\n",
        "\n",
        "    #Adding a banner\n",
        "    print(\"\\nLooking for Directories....\")\n",
        "    \n",
        "    fo = open(wordlist,\"r+\")\n",
        "    for i in range(1000):\n",
        "        word = fo.readline(10).strip()\n",
        "        surl = url+word+ext\n",
        "            \n",
        "        response = requests.get(surl)\n",
        "        if (response.status_code == 200):\n",
        "            print (\"[+] Found :- \",surl)\n",
        "        else:\n",
        "            pass\n",
        "\n",
        "\n",
        "def subdomain(website):\n",
        "    \n",
        "    #Adding a banner\n",
        "    print(\"\\nEnumerating Subdomains....\")\n",
        "    \n",
        "    subdomains = []\n",
        "\n",
        "    req = requests.get(f'https://crt.sh/?q={website}&output=json')\n",
        "\n",
        "    if req.status_code != 200:\n",
        "        print('[*] Information not available!')\n",
        "        sys.exit(1)\n",
        "\n",
        "    for (key,value) in enumerate(req.json()):\n",
        "        subdomains.append(value['name_value'])\n",
        "\n",
        "    subs = sorted(set(subdomains))\n",
        "\n",
        "    for s in subs:\n",
        "        print(f'[*] {s}\\n')\n",
        "    \n",
        "\n",
        "if __name__ == '__main__':\n",
        "\n",
        "    while True:\n",
        "        \n",
        "        print(\"*\" * 50)\n",
        "        print('\\n URL Reconnaissance Activated !\\n')\n",
        "        print(\"*\" * 50)\n",
        "\n",
        "        website= (input(\"Enter target Domain : \"))\n",
        "        url= (input(\"\\nEnter target URL : \"))\n",
        "        #loaded = pickle.load(open(\"feat.pickle\", 'rb'))\n",
        "        #loaded_model = pickle.load(open(\"finalized_model.sav\", 'rb'))\n",
        "        predict =[url]\n",
        "        predict = vectorizer.transform(predict)\n",
        "        y_Predict = forest.predict(predict)\n",
        "        if(y_Predict[0]==0):\n",
        "          print(\"\\nBAD URL\")\n",
        "        else:\n",
        "            print(\"\\nSAFE URL\")\n",
        "        #wordlist= (input(\"\\nEnter brute force Wordlist : \"))\n",
        "        #extension= (input(\"\\nEnter extension for Directory : \"))\n",
        "\n",
        "        try:\n",
        "          port_scanner(website)\n",
        "        except:\n",
        "          print(\"ERROR : Couldn't scan\")\n",
        "        try:\n",
        "          brute_force(website, url)\n",
        "        except:\n",
        "          print(\"ERROR : Invalid URL. No schema supplied\")\n",
        "        try:\n",
        "          subdomain(website)\n",
        "        except:\n",
        "          print(\"ERROR : Couldn't retrieve subdomains\")      \n",
        "        print(\"--\" *50)\n",
        "        print(\"scan completed succesfully\")\n",
        "        print(\"Time Completed: \" +str(datetime.now()))\n",
        "        print(\"--\" *50)\n",
        "\n",
        "        print(\"\\n\")\n",
        "        print(\"\\nGood Bye ! \\n\")\n",
        "        exit()"
      ],
      "metadata": {
        "colab": {
          "base_uri": "https://localhost:8080/"
        },
        "id": "8Y9Vpsm1eQnL",
        "outputId": "aad7f78d-e258-4ab7-d0e6-9db0f4664cab"
      },
      "id": "8Y9Vpsm1eQnL",
      "execution_count": null,
      "outputs": [
        {
          "output_type": "stream",
          "name": "stdout",
          "text": [
            "**************************************************\n",
            "\n",
            " URL Reconnaissance Activated !\n",
            "\n",
            "**************************************************\n",
            "Enter target Domain : http://’www.radsport-voggel.de/wp-admin/includes/log.exe'@.php?\n",
            "\n",
            "Enter target URL : http://’www.radsport-voggel.de/wp-admin/includes/log.exe'@.php?\n",
            "\n",
            "BAD URL\n",
            "[Errno -2] Name or service not known\n",
            "----------------------------------------------------------------------------------------------------\n",
            "Starting Scan\n",
            "ERROR : Couldn't scan\n",
            "Hostname could not be resolved. \n",
            "ERROR : Invalid URL. No schema supplied\n",
            "\n",
            "Enumerating Subdomains....\n",
            "[*] Information not available!\n",
            "ERROR : Couldn't retrieve subdomains\n",
            "----------------------------------------------------------------------------------------------------\n",
            "scan completed succesfully\n",
            "Time Completed: 2022-05-12 09:17:30.494728\n",
            "----------------------------------------------------------------------------------------------------\n",
            "\n",
            "\n",
            "\n",
            "Good Bye ! \n",
            "\n",
            "**************************************************\n",
            "\n",
            " URL Reconnaissance Activated !\n",
            "\n",
            "**************************************************\n"
          ]
        }
      ]
    }
  ],
  "metadata": {
    "kernelspec": {
      "display_name": "Python 3",
      "language": "python",
      "name": "python3"
    },
    "language_info": {
      "codemirror_mode": {
        "name": "ipython",
        "version": 3
      },
      "file_extension": ".py",
      "mimetype": "text/x-python",
      "name": "python",
      "nbconvert_exporter": "python",
      "pygments_lexer": "ipython3",
      "version": "3.8.8"
    },
    "colab": {
      "name": "MAIN.ipynb",
      "provenance": []
    }
  },
  "nbformat": 4,
  "nbformat_minor": 5
}